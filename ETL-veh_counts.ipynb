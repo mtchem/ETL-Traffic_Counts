{
 "cells": [
  {
   "cell_type": "markdown",
   "metadata": {},
   "source": [
    "# Traffic count data processing\n",
    "\n",
    "## Traffic studies often start with traffic count data that consist of vehicle type, cardinal direction and time a vehicle or pedestrian moved through an intersection.  This notebook will walk you through some ways to use python to clean and organize the data for further analysis."
   ]
  },
  {
   "cell_type": "markdown",
   "metadata": {},
   "source": [
    "## Python modules that need to be imported"
   ]
  },
  {
   "cell_type": "code",
   "execution_count": 2,
   "metadata": {},
   "outputs": [],
   "source": [
    "# imports\n",
    "import pandas as pd\n",
    "import numpy as np\n",
    "import datetime\n",
    "from datetime import timedelta\n",
    "import ast"
   ]
  },
  {
   "cell_type": "markdown",
   "metadata": {},
   "source": [
    "## Move sample data into a pandas dataframe"
   ]
  },
  {
   "attachments": {},
   "cell_type": "markdown",
   "metadata": {},
   "source": [
    "#### Below is a picture of the sample data."
   ]
  },
  {
   "cell_type": "markdown",
   "metadata": {},
   "source": [
    "<img src = \"images/sample_data.png\", width = 180, height= 70>\n",
    "\n",
    "### *sample data consists of three columns\n",
    "1. movment type (mvmt) \n",
    "2. timestamp (time) \n",
    "3. type of vehical (veh_type)"
   ]
  },
  {
   "cell_type": "markdown",
   "metadata": {},
   "source": [
    "#### Read the CSV file to a pandas dataframe"
   ]
  },
  {
   "cell_type": "code",
   "execution_count": null,
   "metadata": {
    "collapsed": true
   },
   "outputs": [],
   "source": [
    "# define a variable that contains the raw string file path to where you saved the csv file\n",
    "# * using the raw format is probably not nessecary for Mac users\n",
    "file_path = r'.....\\ETL-Traffic_Counts\\sample-data\\csv_sample.csv'"
   ]
  },
  {
   "cell_type": "code",
   "execution_count": 49,
   "metadata": {},
   "outputs": [],
   "source": [
    "file_path = r'C:\\Users\\aregel\\Documents\\ETL-Traffic_Counts\\sample-data\\csv_sample.csv'\n",
    "# "
   ]
  },
  {
   "cell_type": "code",
   "execution_count": 60,
   "metadata": {},
   "outputs": [
    {
     "data": {
      "text/html": [
       "<div>\n",
       "<style>\n",
       "    .dataframe thead tr:only-child th {\n",
       "        text-align: right;\n",
       "    }\n",
       "\n",
       "    .dataframe thead th {\n",
       "        text-align: left;\n",
       "    }\n",
       "\n",
       "    .dataframe tbody tr th {\n",
       "        vertical-align: top;\n",
       "    }\n",
       "</style>\n",
       "<table border=\"1\" class=\"dataframe\">\n",
       "  <thead>\n",
       "    <tr style=\"text-align: right;\">\n",
       "      <th></th>\n",
       "      <th>mvmt</th>\n",
       "      <th>time</th>\n",
       "      <th>veh_type</th>\n",
       "    </tr>\n",
       "  </thead>\n",
       "  <tbody>\n",
       "    <tr>\n",
       "      <th>0</th>\n",
       "      <td>EBL</td>\n",
       "      <td>10/13/2007 6:48</td>\n",
       "      <td>car</td>\n",
       "    </tr>\n",
       "    <tr>\n",
       "      <th>1</th>\n",
       "      <td>WBT</td>\n",
       "      <td>10/13/2007 6:38</td>\n",
       "      <td>car</td>\n",
       "    </tr>\n",
       "    <tr>\n",
       "      <th>2</th>\n",
       "      <td>EBR</td>\n",
       "      <td>10/13/2007 8:20</td>\n",
       "      <td>semi trucks</td>\n",
       "    </tr>\n",
       "    <tr>\n",
       "      <th>3</th>\n",
       "      <td>NBR</td>\n",
       "      <td>10/13/2007 10:16</td>\n",
       "      <td>car</td>\n",
       "    </tr>\n",
       "    <tr>\n",
       "      <th>4</th>\n",
       "      <td>EBT</td>\n",
       "      <td>10/13/2007 8:54</td>\n",
       "      <td>Pedestrian</td>\n",
       "    </tr>\n",
       "    <tr>\n",
       "      <th>5</th>\n",
       "      <td>EBT</td>\n",
       "      <td>10/13/2007 10:51</td>\n",
       "      <td>car</td>\n",
       "    </tr>\n",
       "    <tr>\n",
       "      <th>6</th>\n",
       "      <td>EBT</td>\n",
       "      <td>10/13/2007 7:50</td>\n",
       "      <td>truck</td>\n",
       "    </tr>\n",
       "    <tr>\n",
       "      <th>7</th>\n",
       "      <td>WBT</td>\n",
       "      <td>10/13/2007 7:46</td>\n",
       "      <td>car</td>\n",
       "    </tr>\n",
       "    <tr>\n",
       "      <th>8</th>\n",
       "      <td>SBT</td>\n",
       "      <td>10/13/2007 7:43</td>\n",
       "      <td>car</td>\n",
       "    </tr>\n",
       "    <tr>\n",
       "      <th>9</th>\n",
       "      <td>WBR</td>\n",
       "      <td>10/13/2007 9:57</td>\n",
       "      <td>car</td>\n",
       "    </tr>\n",
       "  </tbody>\n",
       "</table>\n",
       "</div>"
      ],
      "text/plain": [
       "  mvmt              time     veh_type\n",
       "0  EBL   10/13/2007 6:48          car\n",
       "1  WBT   10/13/2007 6:38          car\n",
       "2  EBR   10/13/2007 8:20  semi trucks\n",
       "3  NBR  10/13/2007 10:16          car\n",
       "4  EBT   10/13/2007 8:54   Pedestrian\n",
       "5  EBT  10/13/2007 10:51          car\n",
       "6  EBT   10/13/2007 7:50        truck\n",
       "7  WBT   10/13/2007 7:46          car\n",
       "8  SBT   10/13/2007 7:43          car\n",
       "9  WBR   10/13/2007 9:57          car"
      ]
     },
     "execution_count": 60,
     "metadata": {},
     "output_type": "execute_result"
    }
   ],
   "source": [
    "df_0 = pd.read_csv(file_path)\n",
    "df_0.head(10)"
   ]
  },
  {
   "cell_type": "markdown",
   "metadata": {},
   "source": [
    "#### Define some helper functions that take a dataframe with traffic count data and modifies the pedestrian movements and re-labels the semi truck vehicle type to just Truck"
   ]
  },
  {
   "cell_type": "code",
   "execution_count": 13,
   "metadata": {},
   "outputs": [],
   "source": [
    "# map_mvmt_labels takes a dataframe and re-labels the pedestrian movement types so that they are conform to standard labeling \n",
    "def map_mvmt_labels(df):\n",
    "    # Mvmt type map\n",
    "    direction_map = {'EBL':'EBL', 'EBR':'EBR', 'EBT':'EBT', 'NBL':'NBL', 'NBR':'NBR', 'NBT':'NBT',\n",
    "                     'SBL':'SBL', 'SBR':'SBR', 'SBT':'SBT', 'WBL':'WBL', 'WBR':'WBR', 'WBT':'WBT',\n",
    "                     'PNER':'WBT', 'PNWL':'SBL', 'PSEL':'NBL', 'PSER':'NBT', 'PSWL':'EBL',\n",
    "                     'PSWR':'EBT'}\n",
    "    \n",
    "    # applies mvmt type map \n",
    "    mapped_mvmt = []\n",
    "    for direction in df.mvmt:\n",
    "        mapped_mvmt.append(direction_map[direction])\n",
    "    df.mvmt = mapped_mvmt\n",
    "    \n",
    "    return df\n",
    "\n",
    "# map_veh_type_labels takes a dataframe and re-labels semi-trucks to Truck\n",
    "def map_veh_type_labels(df):\n",
    "    # veh_type map that converts semi trucks to trucks\n",
    "    veh_map = {'car':'Car', 'truck':'Truck', 'semi trucks':'Truck', 'Pedestrian':'Pedestrian'}\n",
    "    # applies veh_type map\n",
    "    mapped_veh_type = []\n",
    "    for veh in df.veh_type:\n",
    "        mapped_veh_type.append(veh_map[veh])\n",
    "    df.veh_type = mapped_veh_type\n",
    "    return df\n",
    "    "
   ]
  },
  {
   "cell_type": "markdown",
   "metadata": {},
   "source": [
    "#### Clean the data by applying the helper functions and converting the 'time' series to datetime objects"
   ]
  },
  {
   "cell_type": "code",
   "execution_count": 61,
   "metadata": {},
   "outputs": [],
   "source": [
    "# apply all the helper functions and convert time to datetime\n",
    "def clean_data(df):\n",
    "    df['time'].apply(lambda x: pd.to_datetime(x))\n",
    "    df = map_mvmt_labels(df)\n",
    "    df = map_veh_type_labels(df)\n",
    "    return df"
   ]
  },
  {
   "cell_type": "code",
   "execution_count": null,
   "metadata": {},
   "outputs": [],
   "source": [
    "\n",
    "\n",
    "# takes csv count data and returns parsed data table with multi-index\n",
    "def df_veh_counts(file_path, date, min_time_interval):\n",
    "    df_0 = pd.read_csv(file)\n",
    "    df_1 = map_labels(df_0)\n",
    "    count = np.ones(len(df_1.TIME))\n",
    "    date = date\n",
    "    df_1['COUNT'] = count\n",
    "    \n",
    "    df_1['datetime'] = date + ' ' + df_1.TIME\n",
    "    df_1['datetime'] = pd.to_datetime(df_1['datetime'])\n",
    "    data = df_1[['Mapped Button ID','Mapped VEH Type', 'datetime', 'COUNT']]\n",
    "    data.index = pd.to_datetime(data.datetime)\n",
    "    # df.pivot(index='date', columns='variable', values='value')\n",
    "    table = data.pivot_table(index=data.index, columns = ['Mapped Button ID','Mapped VEH Type'], values = 'COUNT')\n",
    "    table_noNan= table.fillna(value=0)\n",
    "    sample_time = min_time_interval + 'T'\n",
    "    table_resampled = table_noNan.resample(sample_time).sum()\n",
    "    final_table = table_resampled.fillna(value=0)\n",
    "    return final_table\n",
    "\n",
    "# takes parsed multi-index dataframe(df), returns total sum of ALL cars\n",
    "def total_cars(df):\n",
    "    mvmt_type = ['EBL', 'EBR', 'EBT', 'NBL', 'NBR', 'NBT','SBL', 'SBR', 'SBT', 'WBL', 'WBR', 'WBT']\n",
    "    total_cars = 0\n",
    "    for mvmt in mvmt_type:\n",
    "        total_cars = total_cars + df[mvmt]['Car'][1]\n",
    "    return total_cars\n",
    "\n",
    "# takes csv file(file), the date the count was done(date), \n",
    "# how you want to bin the time in minutes (min_time_interval), and how you want to define Peak time\n",
    "# in hours (time_delta)\n",
    "# returns the TOTAL (cars + trucks +peds) traffic for the peak hour\n",
    "def total_peak_hr_traffic(file, date, min_time_interval, time_delta):\n",
    "    data = df_veh_counts(file, date, min_time_interval)\n",
    "    peak_hr_df = peak_hr_data(data, time_delta)\n",
    "    sums = peak_hr_df.sum().sum()\n",
    "    return sums\n",
    "\n",
    "# takes parsed multi-index dataframe, returns total sum of ALL counts (including pedestrians/bike)\n",
    "def total_sum(df):\n",
    "    return df.sum().sum()\n",
    "\n",
    "# takes the parsed data table and peak time delta and returns the peak traffic for the time delta\n",
    "def find_peak_hour(df, time_delta=1):\n",
    "    time_slice_dict = {}\n",
    "    for i in range(0,len(df),1):\n",
    "        start_date = df.index[i]\n",
    "        end_date = start_date + timedelta(hours=time_delta)\n",
    "        time_slice = df[start_date : end_date]\n",
    "        total_sum = time_slice.sum().sum()\n",
    "        time_slice_dict[total_sum] = [start_date, end_date]\n",
    "    lst = [key for key,value in time_slice_dict.items()]\n",
    "    largest_value = max(lst)\n",
    "    peak_hour = time_slice_dict[largest_value]\n",
    "    return peak_hour\n",
    "# takes the parsed multi-index dataframe, returns a dataframe with ONLY PEAK HOUR data\n",
    "def peak_hr_data(df, time_delta):\n",
    "    \n",
    "    time_interval = find_peak_hour(df, time_delta)\n",
    "    start = time_interval[0]\n",
    "    end = time_interval[1]\n",
    "    peak_data = df[start:end]\n",
    "    return peak_data\n",
    "# takes csv file(file), the date the count was done(date), \n",
    "# how you want to bin the time in minutes (min_time_interval),and how you want to define Peak time\n",
    "# in hours (time_delta)\n",
    "# returns the TOTAL VEH (cars + trucks) traffic for the PEAK HOUR\n",
    "def total_peak_hr_traffic(file_path, date, min_time_interval,time_delta):\n",
    "    mvmt_type = ['EBL', 'EBR', 'EBT', 'NBL', 'NBR', 'NBT','SBL', 'SBR', 'SBT', 'WBL', 'WBR', 'WBT']\n",
    "    total_veh = 0\n",
    "    data = df_veh_counts(file, date, min_time_interval)\n",
    "    df = peak_hr_data(data, timeD)\n",
    "    for mvmt in mvmt_type:\n",
    "        total_veh = total_veh + df[mvmt]['Car'][1] + df[mvmt]['Truck'][1]\n",
    "    return total_veh\n",
    "# takes df slice (peak hour ONLY), returns dict of key = Button ID, value = sub-totals\n",
    "def sub_total_dict(peak_hr_df):\n",
    "    mvmt_type = ['EBL', 'EBR', 'EBT', 'NBL', 'NBR', 'NBT','SBL', 'SBR', 'SBT', 'WBL', 'WBR', 'WBT']\n",
    "    intersect_name = {}\n",
    "    for label in mvmt_type:\n",
    "        key = label\n",
    "        value = peak_hr_df[label].sum()\n",
    "        intersect_name[key] = value\n",
    "    return intersect_name\n",
    "def current_numbers(file_path, date, min_time_interval, timeD, road_mvmt_lst):\n",
    "    data = peak_hr_data(file_path, date, min_time_interval, timeD)\n",
    "    labels = list(road_mvmt_lst)\n",
    "    road_name = []\n",
    "    AM = []\n",
    "    PM = []\n",
    "    mvmts = []\n",
    "    mvmt_type = ['EBL', 'EBR', 'EBT', 'NBL', 'NBR', 'NBT','SBL', 'SBR', 'SBT', 'WBL', 'WBR', 'WBT']\n",
    "    for label in labels:\n",
    "        road_name.append(label[0])\n",
    "        mvmts.append(label[1])\n",
    "    for mvmt in mvmt_type:\n",
    "        AM.append(data[mvmt]['Car'][1] + data[mvmt]['Truck'][1])\n",
    "    numbers = pd.DataFrame(\n",
    "        {'road_name': road_name,\n",
    "         'mvmts': mvmts,\n",
    "         'AM': AM\n",
    "        })\n",
    "    return numbers"
   ]
  },
  {
   "cell_type": "markdown",
   "metadata": {},
   "source": [
    "##  **_This section asks you some questions_**"
   ]
  },
  {
   "cell_type": "code",
   "execution_count": null,
   "metadata": {
    "collapsed": true
   },
   "outputs": [],
   "source": [
    "file = r'C:\\Users\\aregel\\Documents\\McDowell_eng\\Steamboat\\workproduct\\2015-10-13_M1195_Traffic_Counts_noNaN.xlsx'\n",
    "[('EBL', 'US 40'),\n",
    " ('EBR', 'US 40'),\n",
    " ('EBT', 'US 40'),\n",
    " ('NBL', 'RiverRoad'),\n",
    " ('NBR', 'RiverRoad'),\n",
    " ('NBT', 'RiverRoad'),\n",
    " ('SBL', 'RiverRoad'),\n",
    " ('SBR', 'RiverRoad'),\n",
    " ('SBT', 'RiverRoad'),\n",
    " ('WBL', 'US 40'),\n",
    " ('WBR', 'US 40'),\n",
    " ('WBT', 'US 40')]"
   ]
  },
  {
   "cell_type": "code",
   "execution_count": null,
   "metadata": {},
   "outputs": [],
   "source": [
    "file_input = input(\"Input the path to the file you want to process\")\n",
    "road_mvmt = input(\"List the name of the road and the turn ID, e.g. ('US 40', 'EBL'), ('US 40','EBT)..\")\n",
    "data = input(\"What is the date the traffic count was taken?\")\n",
    "min_time_interval = input(\"What is the time interval you want to break the data into (e.g. '15')\")\n",
    "timeD = input('How long(in hours) is the \"Peak Time\"')\n"
   ]
  },
  {
   "cell_type": "code",
   "execution_count": null,
   "metadata": {},
   "outputs": [],
   "source": [
    "road_mvmt_lst = list(ast.literal_eval(road_mvmt))\n",
    "file = file_input.encode(encoding='UTF-8',errors='strict')\n",
    "date = data\n",
    "\n",
    "current_numbers(file, date, min_time_interval, timeD, road_mvmt_lst)"
   ]
  },
  {
   "cell_type": "code",
   "execution_count": null,
   "metadata": {},
   "outputs": [],
   "source": [
    "type(r'Hi')\n"
   ]
  },
  {
   "cell_type": "code",
   "execution_count": null,
   "metadata": {},
   "outputs": [],
   "source": [
    "road_mvmt = input(\"List the name of the road and the turn ID, e.g. ('US 40', 'EBL'), ('US 40','EBT)..\")"
   ]
  },
  {
   "cell_type": "code",
   "execution_count": null,
   "metadata": {},
   "outputs": [],
   "source": [
    "list(ast.literal_eval(road_mvmt))"
   ]
  },
  {
   "cell_type": "code",
   "execution_count": null,
   "metadata": {
    "collapsed": true
   },
   "outputs": [],
   "source": []
  }
 ],
 "metadata": {
  "anaconda-cloud": {},
  "kernelspec": {
   "display_name": "Python [conda env:py35]",
   "language": "python",
   "name": "conda-env-py35-py"
  },
  "language_info": {
   "codemirror_mode": {
    "name": "ipython",
    "version": 3
   },
   "file_extension": ".py",
   "mimetype": "text/x-python",
   "name": "python",
   "nbconvert_exporter": "python",
   "pygments_lexer": "ipython3",
   "version": "3.5.4"
  }
 },
 "nbformat": 4,
 "nbformat_minor": 1
}
