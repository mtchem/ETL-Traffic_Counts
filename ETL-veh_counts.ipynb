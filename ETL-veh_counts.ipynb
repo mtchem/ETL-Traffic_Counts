{
 "cells": [
  {
   "cell_type": "markdown",
   "metadata": {},
   "source": [
    "# Traffic count data clean-up\n",
    "\n",
    "## Traffic studies often start with traffic count data that consist of type, direction and time a vehicle or pedestrian moved through an intersection.  This notebook will walk you through some ways to use python to clean and organize the data for further analysis."
   ]
  },
  {
   "cell_type": "markdown",
   "metadata": {},
   "source": [
    "## Python modules that need to be imported"
   ]
  },
  {
   "cell_type": "code",
   "execution_count": null,
   "metadata": {
    "collapsed": true
   },
   "outputs": [],
   "source": [
    "# imports\n",
    "import pandas as pd\n",
    "import numpy as np\n",
    "import datetime\n",
    "from datetime import timedelta\n",
    "import ast"
   ]
  },
  {
   "cell_type": "markdown",
   "metadata": {},
   "source": [
    "## Converting data into a pandas dataframe"
   ]
  },
  {
   "cell_type": "markdown",
   "metadata": {},
   "source": [
    "### Raw traffic counts could be in many different formats.  The following three cells will walk through how do convert csv , excel, and database data into a pandas dataframe.  There is sample data for the three different formats in the sample-data folder."
   ]
  },
  {
   "cell_type": "markdown",
   "metadata": {},
   "source": [
    "<img src = \"images/sample_data.png\", width = 180, height= 70>\n",
    "\n",
    "#### *sample data consists of three columns. 1. movment type (mvmt) 2. timestamp (time) and 3. type of vehical (veh_type)"
   ]
  },
  {
   "cell_type": "markdown",
   "metadata": {},
   "source": [
    "#### CSV to pandas dataframe"
   ]
  },
  {
   "cell_type": "code",
   "execution_count": null,
   "metadata": {
    "collapsed": true
   },
   "outputs": [],
   "source": [
    "# define a variable that contains the raw string file path to where you saved the csv file\n",
    "# * using the raw format is probably not nessecary for Mac users\n",
    "file_path = r'.....\\ETL-Traffic_Counts\\sample-data\\csv_sample.csv'"
   ]
  },
  {
   "cell_type": "code",
   "execution_count": null,
   "metadata": {
    "collapsed": true
   },
   "outputs": [],
   "source": [
    "file_path = r'C:\\Users\\aregel\\Documents\\ETL-Traffic_Counts\\sample-data\\csv_sample.csv'\n",
    "# "
   ]
  },
  {
   "cell_type": "code",
   "execution_count": null,
   "metadata": {
    "collapsed": false
   },
   "outputs": [],
   "source": [
    "\n",
    "\n",
    "def map_labels(df):\n",
    "    # Label maps\n",
    "    direction_map = {'EBL':'EBL', 'EBR':'EBR', 'EBT':'EBT', 'NBL':'NBL', 'NBR':'NBR', 'NBT':'NBT',\n",
    "                     'SBL':'SBL', 'SBR':'SBR', 'SBT':'SBT', 'WBL':'WBL', 'WBR':'WBR', 'WBT':'WBT',\n",
    "                     'PNER':'WBT', 'PNWL':'SBL', 'PNWR':'SBL', 'PSEL':'NBL', 'PSER':'NBT', 'PSWL':'EBL',\n",
    "                     'PSWR':'EBT'}\n",
    "    ID_map = {'Car':'Car', 'Truck':'Truck', 'Semi Trucks':'Truck', 'Pedestrian':'Pedestrian'}\n",
    "    # create mapped label columns\n",
    "    mapped_Button_ID = []\n",
    "    mapped_VEH_TYPE = []\n",
    "    for ID in df['VEH TYPE']:\n",
    "        if type(ID) == str:\n",
    "            mapped_VEH_TYPE.append(ID_map[ID])\n",
    "        else:\n",
    "            continue\n",
    "    for button_ID in df['BUTTON ID']:\n",
    "        mapped_Button_ID.append(direction_map[button_ID])\n",
    "    df['Mapped Button ID'] = mapped_Button_ID\n",
    "    df['Mapped VEH Type'] = mapped_VEH_TYPE\n",
    "    return df\n",
    "# takes csv count data and returns parsed data table with multi-index\n",
    "def df_veh_counts(file_path, date, min_time_interval):\n",
    "    df_0 = pd.read_csv(file)\n",
    "    df_1 = map_labels(df_0)\n",
    "    count = np.ones(len(df_1.TIME))\n",
    "    date = date\n",
    "    df_1['COUNT'] = count\n",
    "    \n",
    "    df_1['datetime'] = date + ' ' + df_1.TIME\n",
    "    df_1['datetime'] = pd.to_datetime(df_1['datetime'])\n",
    "    data = df_1[['Mapped Button ID','Mapped VEH Type', 'datetime', 'COUNT']]\n",
    "    data.index = pd.to_datetime(data.datetime)\n",
    "    # df.pivot(index='date', columns='variable', values='value')\n",
    "    table = data.pivot_table(index=data.index, columns = ['Mapped Button ID','Mapped VEH Type'], values = 'COUNT')\n",
    "    table_noNan= table.fillna(value=0)\n",
    "    sample_time = min_time_interval + 'T'\n",
    "    table_resampled = table_noNan.resample(sample_time).sum()\n",
    "    final_table = table_resampled.fillna(value=0)\n",
    "    return final_table\n",
    "# takes parsed multi-index dataframe(df), returns total sum of ALL cars\n",
    "def total_cars(df):\n",
    "    mvmt_type = ['EBL', 'EBR', 'EBT', 'NBL', 'NBR', 'NBT','SBL', 'SBR', 'SBT', 'WBL', 'WBR', 'WBT']\n",
    "    total_cars = 0\n",
    "    for mvmt in mvmt_type:\n",
    "        total_cars = total_cars + df[mvmt]['Car'][1]\n",
    "    return total_cars\n",
    "# takes csv file(file), the date the count was done(date), \n",
    "# how you want to bin the time in minutes (min_time_interval), and how you want to define Peak time\n",
    "# in hours (time_delta)\n",
    "# returns the TOTAL (cars + trucks +peds) traffic for the peak hour\n",
    "def total_peak_hr_traffic(file, date, min_time_interval, time_delta):\n",
    "    data = df_veh_counts(file, date, min_time_interval)\n",
    "    peak_hr_df = peak_hr_data(data, time_delta)\n",
    "    sums = peak_hr_df.sum().sum()\n",
    "    return sums\n",
    "# takes parsed multi-index dataframe, returns total sum of ALL counts (including pedestrians/bike)\n",
    "def total_sum(df):\n",
    "    return df.sum().sum()\n",
    "# takes the parsed data table and peak time delta and returns the peak traffic for the time delta\n",
    "def find_peak_hour(df, time_delta=1):\n",
    "    time_slice_dict = {}\n",
    "    for i in range(0,len(df),1):\n",
    "        start_date = df.index[i]\n",
    "        end_date = start_date + timedelta(hours=time_delta)\n",
    "        time_slice = df[start_date : end_date]\n",
    "        total_sum = time_slice.sum().sum()\n",
    "        time_slice_dict[total_sum] = [start_date, end_date]\n",
    "    lst = [key for key,value in time_slice_dict.items()]\n",
    "    largest_value = max(lst)\n",
    "    peak_hour = time_slice_dict[largest_value]\n",
    "    return peak_hour\n",
    "# takes the parsed multi-index dataframe, returns a dataframe with ONLY PEAK HOUR data\n",
    "def peak_hr_data(df, time_delta):\n",
    "    \n",
    "    time_interval = find_peak_hour(df, time_delta)\n",
    "    start = time_interval[0]\n",
    "    end = time_interval[1]\n",
    "    peak_data = df[start:end]\n",
    "    return peak_data\n",
    "# takes csv file(file), the date the count was done(date), \n",
    "# how you want to bin the time in minutes (min_time_interval),and how you want to define Peak time\n",
    "# in hours (time_delta)\n",
    "# returns the TOTAL VEH (cars + trucks) traffic for the PEAK HOUR\n",
    "def total_peak_hr_traffic(file_path, date, min_time_interval,time_delta):\n",
    "    mvmt_type = ['EBL', 'EBR', 'EBT', 'NBL', 'NBR', 'NBT','SBL', 'SBR', 'SBT', 'WBL', 'WBR', 'WBT']\n",
    "    total_veh = 0\n",
    "    data = df_veh_counts(file, date, min_time_interval)\n",
    "    df = peak_hr_data(data, timeD)\n",
    "    for mvmt in mvmt_type:\n",
    "        total_veh = total_veh + df[mvmt]['Car'][1] + df[mvmt]['Truck'][1]\n",
    "    return total_veh\n",
    "# takes df slice (peak hour ONLY), returns dict of key = Button ID, value = sub-totals\n",
    "def sub_total_dict(peak_hr_df):\n",
    "    mvmt_type = ['EBL', 'EBR', 'EBT', 'NBL', 'NBR', 'NBT','SBL', 'SBR', 'SBT', 'WBL', 'WBR', 'WBT']\n",
    "    intersect_name = {}\n",
    "    for label in mvmt_type:\n",
    "        key = label\n",
    "        value = peak_hr_df[label].sum()\n",
    "        intersect_name[key] = value\n",
    "    return intersect_name\n",
    "def current_numbers(file_path, date, min_time_interval, timeD, road_mvmt_lst):\n",
    "    data = peak_hr_data(file_path, date, min_time_interval, timeD)\n",
    "    labels = list(road_mvmt_lst)\n",
    "    road_name = []\n",
    "    AM = []\n",
    "    PM = []\n",
    "    mvmts = []\n",
    "    mvmt_type = ['EBL', 'EBR', 'EBT', 'NBL', 'NBR', 'NBT','SBL', 'SBR', 'SBT', 'WBL', 'WBR', 'WBT']\n",
    "    for label in labels:\n",
    "        road_name.append(label[0])\n",
    "        mvmts.append(label[1])\n",
    "    for mvmt in mvmt_type:\n",
    "        AM.append(data[mvmt]['Car'][1] + data[mvmt]['Truck'][1])\n",
    "    numbers = pd.DataFrame(\n",
    "        {'road_name': road_name,\n",
    "         'mvmts': mvmts,\n",
    "         'AM': AM\n",
    "        })\n",
    "    return numbers"
   ]
  },
  {
   "cell_type": "markdown",
   "metadata": {},
   "source": [
    "##  **_This section asks you some questions_**"
   ]
  },
  {
   "cell_type": "code",
   "execution_count": null,
   "metadata": {
    "collapsed": true
   },
   "outputs": [],
   "source": [
    "file = r'C:\\Users\\aregel\\Documents\\McDowell_eng\\Steamboat\\workproduct\\2015-10-13_M1195_Traffic_Counts_noNaN.xlsx'\n",
    "[('EBL', 'US 40'),\n",
    " ('EBR', 'US 40'),\n",
    " ('EBT', 'US 40'),\n",
    " ('NBL', 'RiverRoad'),\n",
    " ('NBR', 'RiverRoad'),\n",
    " ('NBT', 'RiverRoad'),\n",
    " ('SBL', 'RiverRoad'),\n",
    " ('SBR', 'RiverRoad'),\n",
    " ('SBT', 'RiverRoad'),\n",
    " ('WBL', 'US 40'),\n",
    " ('WBR', 'US 40'),\n",
    " ('WBT', 'US 40')]"
   ]
  },
  {
   "cell_type": "code",
   "execution_count": null,
   "metadata": {
    "collapsed": false
   },
   "outputs": [],
   "source": [
    "file_input = input(\"Input the path to the file you want to process\")\n",
    "road_mvmt = input(\"List the name of the road and the turn ID, e.g. ('US 40', 'EBL'), ('US 40','EBT)..\")\n",
    "data = input(\"What is the date the traffic count was taken?\")\n",
    "min_time_interval = input(\"What is the time interval you want to break the data into (e.g. '15')\")\n",
    "timeD = input('How long(in hours) is the \"Peak Time\"')\n"
   ]
  },
  {
   "cell_type": "code",
   "execution_count": null,
   "metadata": {
    "collapsed": false
   },
   "outputs": [],
   "source": [
    "road_mvmt_lst = list(ast.literal_eval(road_mvmt))\n",
    "file = file_input.encode(encoding='UTF-8',errors='strict')\n",
    "date = data\n",
    "\n",
    "current_numbers(file, date, min_time_interval, timeD, road_mvmt_lst)"
   ]
  },
  {
   "cell_type": "code",
   "execution_count": null,
   "metadata": {
    "collapsed": false
   },
   "outputs": [],
   "source": [
    "type(r'Hi')\n"
   ]
  },
  {
   "cell_type": "code",
   "execution_count": null,
   "metadata": {
    "collapsed": false
   },
   "outputs": [],
   "source": [
    "road_mvmt = input(\"List the name of the road and the turn ID, e.g. ('US 40', 'EBL'), ('US 40','EBT)..\")"
   ]
  },
  {
   "cell_type": "code",
   "execution_count": null,
   "metadata": {
    "collapsed": false
   },
   "outputs": [],
   "source": [
    "list(ast.literal_eval(road_mvmt))"
   ]
  },
  {
   "cell_type": "code",
   "execution_count": null,
   "metadata": {
    "collapsed": true
   },
   "outputs": [],
   "source": []
  }
 ],
 "metadata": {
  "anaconda-cloud": {},
  "kernelspec": {
   "display_name": "Python [conda env:py35]",
   "language": "python",
   "name": "conda-env-py35-py"
  },
  "language_info": {
   "codemirror_mode": {
    "name": "ipython",
    "version": 3
   },
   "file_extension": ".py",
   "mimetype": "text/x-python",
   "name": "python",
   "nbconvert_exporter": "python",
   "pygments_lexer": "ipython3",
   "version": "3.5.2"
  }
 },
 "nbformat": 4,
 "nbformat_minor": 0
}
